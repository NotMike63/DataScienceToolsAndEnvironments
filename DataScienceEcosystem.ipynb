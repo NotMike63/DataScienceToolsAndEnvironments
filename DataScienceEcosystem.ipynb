{
 "cells": [
  {
   "cell_type": "markdown",
   "id": "f9ef0ed5-df06-4d4b-a90e-273055430b42",
   "metadata": {},
   "source": [
    "# Data Science Tools and Ecosystem"
   ]
  },
  {
   "cell_type": "markdown",
   "id": "fbe56bc9-cab7-4267-be64-7ea012a53b1b",
   "metadata": {},
   "source": [
    "In this notebook, Data Science Tools and Ecosystems are summarized"
   ]
  },
  {
   "cell_type": "markdown",
   "id": "f87f4bb0-8fc9-4e31-8b48-0f862195ff45",
   "metadata": {},
   "source": [
    "Some of the most popular data science languages are:\n",
    "1. Python\n",
    "2. R\n",
    "3. Julia"
   ]
  },
  {
   "cell_type": "markdown",
   "id": "8a418311-c57b-469c-baa2-b23f8ce7892e",
   "metadata": {},
   "source": [
    "Some of the most commonly used libraries by Data Scientists are:\n",
    "1. ggplot\n",
    "2. dplyr\n",
    "3. MatPlotLib"
   ]
  },
  {
   "cell_type": "markdown",
   "id": "d0c439e8-d4a0-42e4-a3a9-2fc74826f3e1",
   "metadata": {},
   "source": [
    "|Data Science Tools|\n",
    "--------------------\n",
    "|Jupyter Lab |\n",
    "|Anaconda|\n",
    "|Apache Spark|\n"
   ]
  },
  {
   "cell_type": "markdown",
   "id": "0d13be83-90b4-4303-bdbe-39e817d3b827",
   "metadata": {},
   "source": [
    "### Below are a few examples of evaluating arithmetic expressions in Python"
   ]
  },
  {
   "cell_type": "code",
   "execution_count": 1,
   "id": "0d12983e-5e8e-4e6c-b909-b011033e8b23",
   "metadata": {},
   "outputs": [
    {
     "data": {
      "text/plain": [
       "17"
      ]
     },
     "execution_count": 1,
     "metadata": {},
     "output_type": "execute_result"
    }
   ],
   "source": [
    "#This is a simple arithmetic expression to multiply then add integers\n",
    "(3*4)+5"
   ]
  },
  {
   "cell_type": "code",
   "execution_count": 2,
   "id": "1507b228-d2a3-48d1-a04b-d1cb8388721a",
   "metadata": {},
   "outputs": [
    {
     "data": {
      "text/plain": [
       "3.3333333333333335"
      ]
     },
     "execution_count": 2,
     "metadata": {},
     "output_type": "execute_result"
    }
   ],
   "source": [
    "#This will convert 200 minutes to hours by dividing by 60.\n",
    "200/60"
   ]
  },
  {
   "cell_type": "markdown",
   "id": "32c03a13-2f0c-4c0d-b644-411a302aa58b",
   "metadata": {},
   "source": [
    "Objectives:\n",
    "- List popular open source tools for data science\n",
    "- Learn basic R libraries for plotting\n",
    "- List popular data science languages\n",
    "- Explain the steps of Data Processing"
   ]
  },
  {
   "cell_type": "markdown",
   "id": "908a55ca-37e8-459d-8e7f-f890fe94a3d4",
   "metadata": {},
   "source": [
    "## Author\n",
    "Michael Spitz"
   ]
  },
  {
   "cell_type": "code",
   "execution_count": null,
   "id": "2b2e6146-c6c3-4fa5-96a2-23d16e2b6802",
   "metadata": {},
   "outputs": [],
   "source": []
  }
 ],
 "metadata": {
  "kernelspec": {
   "display_name": "Python 3 (ipykernel)",
   "language": "python",
   "name": "python3"
  },
  "language_info": {
   "codemirror_mode": {
    "name": "ipython",
    "version": 3
   },
   "file_extension": ".py",
   "mimetype": "text/x-python",
   "name": "python",
   "nbconvert_exporter": "python",
   "pygments_lexer": "ipython3",
   "version": "3.11.7"
  }
 },
 "nbformat": 4,
 "nbformat_minor": 5
}
